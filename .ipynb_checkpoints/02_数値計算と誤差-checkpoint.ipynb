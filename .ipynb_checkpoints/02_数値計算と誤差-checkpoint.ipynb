{
 "cells": [
  {
   "cell_type": "markdown",
   "metadata": {},
   "source": [
    "[参照](http://www.ice.nuie.nagoya-u.ac.jp/jikken/saitou/enshu02.pdf)"
   ]
  },
  {
   "cell_type": "markdown",
   "metadata": {},
   "source": [
    "$ \\sqrt{a + x} - \\sqrt{a} $ を正確に計算する方法を考える。  \n",
    "$ a >> x $ のとき $ \\sqrt{a + x} $ と $ \\sqrt{a} $ は同程度の大きさになるので、そのまま数値計算すると (1) と同様に桁落ちが起こる。  \n",
    "回避するにはどのようにすれば良いか。(ヒント：有理化の逆を行う）  \n",
    "\n",
    "$x << a$ となるような $a$, $x$ を適当に与えて、実際に数値計算して結果を求めよ。"
   ]
  },
  {
   "cell_type": "code",
   "execution_count": 1,
   "metadata": {},
   "outputs": [
    {
     "data": {
      "text/plain": [
       "val1 (generic function with 1 method)"
      ]
     },
     "execution_count": 1,
     "metadata": {},
     "output_type": "execute_result"
    }
   ],
   "source": [
    "function val1(a, x)\n",
    "\tx1 = sqrt(a + x) - sqrt(a)\n",
    "\treturn x1 \n",
    "end"
   ]
  },
  {
   "cell_type": "code",
   "execution_count": 8,
   "metadata": {},
   "outputs": [
    {
     "data": {
      "text/plain": [
       "val2 (generic function with 1 method)"
      ]
     },
     "execution_count": 8,
     "metadata": {},
     "output_type": "execute_result"
    }
   ],
   "source": [
    "function val2(a, x)\n",
    "\tx1 = x / (sqrt(a + x) + sqrt(a))\n",
    "\treturn x1 \n",
    "end"
   ]
  },
  {
   "cell_type": "code",
   "execution_count": 7,
   "metadata": {},
   "outputs": [
    {
     "data": {
      "text/plain": [
       "0.0015904352578453018"
      ]
     },
     "execution_count": 7,
     "metadata": {},
     "output_type": "execute_result"
    }
   ],
   "source": [
    "val1(1, 0.0031834)"
   ]
  },
  {
   "cell_type": "code",
   "execution_count": 9,
   "metadata": {},
   "outputs": [
    {
     "data": {
      "text/plain": [
       "0.0015904352578453014"
      ]
     },
     "execution_count": 9,
     "metadata": {},
     "output_type": "execute_result"
    }
   ],
   "source": [
    "val2(1, 0.0031834)"
   ]
  }
 ],
 "metadata": {
  "kernelspec": {
   "display_name": "Julia 1.0.0",
   "language": "julia",
   "name": "julia-1.0"
  },
  "language_info": {
   "file_extension": ".jl",
   "mimetype": "application/julia",
   "name": "julia",
   "version": "1.0.0"
  }
 },
 "nbformat": 4,
 "nbformat_minor": 2
}
