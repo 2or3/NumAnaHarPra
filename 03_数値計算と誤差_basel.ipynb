{
 "cells": [
  {
   "cell_type": "markdown",
   "metadata": {},
   "source": [
    "$\\displaystyle \\sum^{\\infty}_{i=1} \\frac{1}{i^2} = \\frac{\\pi^2}{6} $ である。  \n",
    "ここで 8000 までの和 $\\displaystyle \\sum^{8000}_{i=1} \\frac{1}{i^2} $ を以下の２つの方法で計算し、結果を比較しよう。  \n",
    "数値は float 型を使う。  \n",
    "(a) $i = 1$ から順に足す方法で和を求めて小数第7位まで出力せよ。  \n",
    "(b) $i = 8000$ から減っていく順に和を求めて小数第7位まで出力せよ。  \n",
    "どちらの結果がより正しいと考えられるか。  \n",
    "大きな数と小さな数の加算では、小さな数の情報が落ちてしまい計算結果に誤差をもたらす。  \n",
    "これは情報落ちと呼ばれる現象である。"
   ]
  },
  {
   "cell_type": "markdown",
   "metadata": {},
   "source": [
    "(a) $i = 1$ から順に足す方法で和を求めて小数第7位まで出力せよ。  "
   ]
  },
  {
   "cell_type": "code",
   "execution_count": 17,
   "metadata": {},
   "outputs": [
    {
     "data": {
      "text/plain": [
       "basel1 (generic function with 1 method)"
      ]
     },
     "execution_count": 17,
     "metadata": {},
     "output_type": "execute_result"
    }
   ],
   "source": [
    "function basel1(x)\n",
    "\ts = 0.0\n",
    "\tfor i = 1:x\n",
    "\t\ts += 1/i^2\n",
    "\tend\n",
    "\treturn s\n",
    "end"
   ]
  },
  {
   "cell_type": "markdown",
   "metadata": {},
   "source": [
    "(b) $i = 8000$ から減っていく順に和を求めて小数第7位まで出力せよ。"
   ]
  },
  {
   "cell_type": "code",
   "execution_count": 27,
   "metadata": {},
   "outputs": [
    {
     "data": {
      "text/plain": [
       "basel2 (generic function with 1 method)"
      ]
     },
     "execution_count": 27,
     "metadata": {},
     "output_type": "execute_result"
    }
   ],
   "source": [
    "function basel2(x)\n",
    "\ts = 0.0\n",
    "\tfor i = 1:x\n",
    "\t\ts += 1/(8001-i)^2\n",
    "\tend\n",
    "\treturn s\n",
    "end"
   ]
  },
  {
   "cell_type": "code",
   "execution_count": 28,
   "metadata": {},
   "outputs": [
    {
     "data": {
      "text/plain": [
       "1.6448090746604027"
      ]
     },
     "execution_count": 28,
     "metadata": {},
     "output_type": "execute_result"
    }
   ],
   "source": [
    "basel1(8000)"
   ]
  },
  {
   "cell_type": "code",
   "execution_count": 29,
   "metadata": {},
   "outputs": [
    {
     "data": {
      "text/plain": [
       "1.644809074660401"
      ]
     },
     "execution_count": 29,
     "metadata": {},
     "output_type": "execute_result"
    }
   ],
   "source": [
    "basel2(8000)"
   ]
  }
 ],
 "metadata": {
  "kernelspec": {
   "display_name": "Julia 1.0.0",
   "language": "julia",
   "name": "julia-1.0"
  },
  "language_info": {
   "file_extension": ".jl",
   "mimetype": "application/julia",
   "name": "julia",
   "version": "1.0.0"
  }
 },
 "nbformat": 4,
 "nbformat_minor": 2
}
