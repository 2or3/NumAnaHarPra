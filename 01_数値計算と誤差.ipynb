{
 "cells": [
  {
   "cell_type": "markdown",
   "metadata": {},
   "source": [
    "[参照](http://www.ice.nuie.nagoya-u.ac.jp/jikken/saitou/enshu02.pdf)"
   ]
  },
  {
   "cell_type": "markdown",
   "metadata": {},
   "source": [
    "## 数値計算の誤差\n",
    "2次方程式 $x^2 − 50000.0001x + 5 = 0$ を考える。  \n",
    "この解は因数分解 $(x − 50000)(x − 0.0001) = 0$ により $x = 50000, 0.0001$ であることが容易にわかる。  \n",
    "2次方程式の解の公式を使って数値計算でこの解を正確に求めることができるか、プログラムを作って確かめよう。  \n",
    "(i) 2次方程式の解の公式をそのままプログラミングして 2つの解を求めよ。  \n",
    "double 型で計算して、解は小数第 16 位まで出力すること。  \n",
    "正しい結果が求められたか。  \n",
    "2次方程式 $ax^2 + bx + c = 0$ の係数が $b^2 >> 4ac$ となるような場合、判別式 $D = b\n",
    "^2 − 4ac ∼ b^2$ となる。  \n",
    "その結果、解の公式の計算の中で 分母 $−b − \\sqrt{D} ∼ −b + b$ は非常に値が小さくなる。  \n",
    "コンピュータによる浮動小数点の演算ではこのことが ”桁落ち ”と呼ばれる現象を引き起こし、計算結果に誤差をもたらす。  \n",
    "(ii) 桁落ちを回避する方法で解を求めよう。  \n",
    "まず、一方の解を減算を使わない方の解の公式を使って計算する。  \n",
    "$x_1 = \\frac{−b +\\sqrt{D}}{2a}$  \n",
    "次に、解と係数の関係式 $x_1x_2 = c/a$ からもう一方の解を求める。  \n",
    "$x_2 = c/(ax_1)$  \n",
    "この方法で２つの解を double 型で数値計算し、小数第 16 位まで出力せよ。  \n",
    "(i) と比べて結果はどうなったか。  "
   ]
  },
  {
   "cell_type": "markdown",
   "metadata": {},
   "source": [
    "## (i) $x_1 = \\frac{−b +\\sqrt{b^2 - 4ac}}{2a}$  に、$a = 1, b=-50000.0001, c=5$ を代入"
   ]
  },
  {
   "cell_type": "code",
   "execution_count": 1,
   "metadata": {},
   "outputs": [
    {
     "data": {
      "text/plain": [
       "quadratic_formula1 (generic function with 1 method)"
      ]
     },
     "execution_count": 1,
     "metadata": {},
     "output_type": "execute_result"
    }
   ],
   "source": [
    "function quadratic_formula1(a,b,c)\n",
    "\tx1 = (-b + sqrt(b^2 -4*a*c)) / 2a\n",
    "\tx2 = (-b - sqrt(b^2 -4*a*c)) / 2a\n",
    "\treturn x1, x2\n",
    "end"
   ]
  },
  {
   "cell_type": "markdown",
   "metadata": {},
   "source": [
    "## (ii) $x_1$ を用いて、解と係数の関係式 $x_1x_2 = c/a$ からもう一方の解を求める。  "
   ]
  },
  {
   "cell_type": "code",
   "execution_count": 2,
   "metadata": {},
   "outputs": [
    {
     "data": {
      "text/plain": [
       "quadratic_formula2 (generic function with 1 method)"
      ]
     },
     "execution_count": 2,
     "metadata": {},
     "output_type": "execute_result"
    }
   ],
   "source": [
    "function quadratic_formula2(a,b,c)\n",
    "\tx1 = (-b + sqrt(b^2 -4*a*c)) / 2a\n",
    "\tx2 = c/(a*x1)\n",
    "\treturn x1, x2\n",
    "end"
   ]
  },
  {
   "cell_type": "code",
   "execution_count": 3,
   "metadata": {},
   "outputs": [
    {
     "data": {
      "text/plain": [
       "5"
      ]
     },
     "execution_count": 3,
     "metadata": {},
     "output_type": "execute_result"
    }
   ],
   "source": [
    "a = 1\n",
    "b = -50000.0001\n",
    "c = 5"
   ]
  },
  {
   "cell_type": "code",
   "execution_count": 4,
   "metadata": {},
   "outputs": [
    {
     "data": {
      "text/plain": [
       "(50000.0, 0.00010000000111176632)"
      ]
     },
     "execution_count": 4,
     "metadata": {},
     "output_type": "execute_result"
    }
   ],
   "source": [
    "quadratic_formula1(a,b,c)"
   ]
  },
  {
   "cell_type": "code",
   "execution_count": 5,
   "metadata": {},
   "outputs": [
    {
     "data": {
      "text/plain": [
       "(50000.0, 0.0001)"
      ]
     },
     "execution_count": 5,
     "metadata": {},
     "output_type": "execute_result"
    }
   ],
   "source": [
    "quadratic_formula2(a,b,c)"
   ]
  }
 ],
 "metadata": {
  "kernelspec": {
   "display_name": "Julia 1.0.0",
   "language": "julia",
   "name": "julia-1.0"
  },
  "language_info": {
   "file_extension": ".jl",
   "mimetype": "application/julia",
   "name": "julia",
   "version": "1.0.0"
  }
 },
 "nbformat": 4,
 "nbformat_minor": 2
}
